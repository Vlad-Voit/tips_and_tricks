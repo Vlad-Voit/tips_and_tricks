{
  "cells": [
    {
      "cell_type": "markdown",
      "id": "exempt-ballet",
      "metadata": {
        "id": "exempt-ballet"
      },
      "source": [
        "# Делаем сетевые графы интерактивными с помощью Python и Pyvis"
      ]
    },
    {
      "cell_type": "markdown",
      "id": "religious-march",
      "metadata": {
        "id": "religious-march"
      },
      "source": [
        "<a href=\"https://colab.research.google.com/github/dm-fedorov/pandas_basic/blob/master/быстрое%20введение%20в%20pandas/graph-viz/Делаем%20сетевые%20графы%20интерактивными%20с%20помощью%20Python%20и%20Pyvis.ipynb\"><img align=\"left\" src=\"https://colab.research.google.com/assets/colab-badge.svg\" alt=\"Open in Colab\" title=\"Open and Execute in Google Colaboratory\" target=\"_blank\"></a>"
      ]
    },
    {
      "cell_type": "markdown",
      "id": "terminal-encoding",
      "metadata": {
        "id": "terminal-encoding"
      },
      "source": [
        "<a href=\"https://t.me/init_python\"><img src=\"https://dfedorov.spb.ru/pandas/logo-telegram.png\" width=\"35\" height=\"35\" alt=\"telegram\" align=\"left\"></a>"
      ]
    },
    {
      "cell_type": "markdown",
      "id": "neither-program",
      "metadata": {
        "id": "neither-program"
      },
      "source": [
        "Библиотека [`pyvis`](https://pyvis.readthedocs.io/) предназначена для быстрой визуализации сетевых графиков с минимальным количеством кода на *Python*. Она разработана как обертка для популярной JavaScript библиотеки `visJS`, которую можно найти по [ссылке](https://visjs.github.io/vis-network/examples/)."
      ]
    },
    {
      "cell_type": "code",
      "execution_count": null,
      "id": "synthetic-animal",
      "metadata": {
        "id": "synthetic-animal"
      },
      "outputs": [],
      "source": [
        "!pip3 install pyvis"
      ]
    },
    {
      "cell_type": "markdown",
      "id": "impaired-tenant",
      "metadata": {
        "id": "impaired-tenant"
      },
      "source": [
        "## Начало\n",
        "\n",
        "Все сети должны быть созданы как экземпляры класса [`Network`](https://pyvis.readthedocs.io/en/latest/documentation.html#pyvis.network.Network):"
      ]
    },
    {
      "cell_type": "code",
      "execution_count": null,
      "id": "known-platform",
      "metadata": {
        "id": "known-platform"
      },
      "outputs": [],
      "source": [
        "from pyvis.network import Network\n",
        "\n",
        "net = Network(notebook=True) # отображение в Блокноте включено"
      ]
    },
    {
      "cell_type": "markdown",
      "id": "wired-quantum",
      "metadata": {
        "id": "wired-quantum"
      },
      "source": [
        "## Добавить узлы в сеть"
      ]
    },
    {
      "cell_type": "code",
      "execution_count": null,
      "id": "understood-ranking",
      "metadata": {
        "id": "understood-ranking"
      },
      "outputs": [],
      "source": [
        "net.add_node(1, label=\"Node 1\") # node id = 1 и label = Node 1"
      ]
    },
    {
      "cell_type": "code",
      "execution_count": null,
      "id": "integrated-appearance",
      "metadata": {
        "id": "integrated-appearance"
      },
      "outputs": [],
      "source": [
        "net.add_node(2) # node id и label = 2"
      ]
    },
    {
      "cell_type": "markdown",
      "id": "radio-participation",
      "metadata": {
        "id": "radio-participation"
      },
      "source": [
        "Здесь первым параметром метода [`add_node`](https://pyvis.readthedocs.io/en/latest/documentation.html#pyvis.network.Network.add_node) является идентификатор `ID` для `Node`. Он может быть строкой или числом. Аргумент `label` - это строка, которая будет явно прикреплена к узлу в окончательной визуализации. Если аргумент `label` не указан, то в качестве метки будет использоваться идентификатор узла.\n",
        "\n",
        "> Параметр *ID* должен быть уникальным.\n",
        "\n",
        "Вы также можете добавить список узлов:"
      ]
    },
    {
      "cell_type": "code",
      "execution_count": null,
      "id": "attached-trash",
      "metadata": {
        "id": "attached-trash"
      },
      "outputs": [],
      "source": [
        "nodes = [\"a\", \"b\", \"c\", \"d\"]"
      ]
    },
    {
      "cell_type": "code",
      "execution_count": null,
      "id": "innovative-empty",
      "metadata": {
        "id": "innovative-empty"
      },
      "outputs": [],
      "source": [
        "net.add_nodes(nodes) # node ids и labels = [\"a\", \"b\", \"c\", \"d\"]"
      ]
    },
    {
      "cell_type": "code",
      "execution_count": null,
      "id": "outside-hebrew",
      "metadata": {
        "id": "outside-hebrew"
      },
      "outputs": [],
      "source": [
        "net.add_nodes(\"hello\") # node ids и labels = [\"h\", \"e\", \"l\", \"o\"]"
      ]
    },
    {
      "cell_type": "markdown",
      "id": "incorrect-david",
      "metadata": {
        "id": "incorrect-david"
      },
      "source": [
        "[`network.Network.add_nodes()`](https://pyvis.readthedocs.io/en/latest/documentation.html#pyvis.network.Network.add_nodes) добавляет в сеть несколько узлов из списка. \n",
        "\n",
        "## Свойства узла\n",
        "\n",
        "Вызов [`add_node()`](https://pyvis.readthedocs.io/en/latest/documentation.html#pyvis.network.Network.add_node) поддерживает различные свойства узла, которые можно установить индивидуально. Все эти свойства можно найти [здесь](https://visjs.github.io/vis-network/docs/network/nodes.html). \n",
        "\n",
        "Для прямого перевода этих атрибутов на *Python* обратитесь к документации [network.Network.add_node()](https://pyvis.readthedocs.io/en/latest/documentation.html#pyvis.network.Network.add_node).\n",
        "\n",
        "> Не по вине *pyvis*, некоторые атрибуты в документации [*VisJS*](https://visjs.github.io/vis-network/docs/network/) работают не так, как ожидалось, или вообще не работают. *Pyvis* может преобразовывать элементы *JavaScript* для *VisJS*, но после этого все зависит от *VisJS*!\n",
        "\n",
        "## Индексирование узла\n",
        "\n",
        "Используйте метод [`get_node()`](https://pyvis.readthedocs.io/en/latest/documentation.html#pyvis.network.Network.get_node) для определения узла по его идентификатору:"
      ]
    },
    {
      "cell_type": "code",
      "execution_count": null,
      "id": "published-professional",
      "metadata": {
        "id": "published-professional"
      },
      "outputs": [],
      "source": [
        "net.add_nodes([\"a\", \"b\", \"c\"])"
      ]
    },
    {
      "cell_type": "code",
      "execution_count": null,
      "id": "needed-cleaners",
      "metadata": {
        "id": "needed-cleaners"
      },
      "outputs": [],
      "source": [
        "net.get_node(\"c\")"
      ]
    },
    {
      "cell_type": "markdown",
      "id": "selected-parker",
      "metadata": {
        "id": "selected-parker"
      },
      "source": [
        "## Добавление списка узлов со свойствами\n",
        "\n",
        "При использовании метода [`network.Network.add_nodes()`](https://pyvis.readthedocs.io/en/latest/documentation.html#pyvis.network.Network.add_nodes) могут быть переданы необязательные ключевые аргументы для добавления свойств этим узлам. Допустимые свойства в этом случае:\n",
        "\n",
        "```Python    \n",
        "['size', 'value', 'title', 'x', 'y', 'label', 'color']\n",
        "```\n",
        "\n",
        "Пример:"
      ]
    },
    {
      "cell_type": "code",
      "execution_count": null,
      "id": "qualified-julian",
      "metadata": {
        "id": "qualified-julian"
      },
      "outputs": [],
      "source": [
        "g = Network(notebook=True) # отображение в Блокноте\n",
        "\n",
        "g.add_nodes([1, 2, 3], \n",
        "            value=[10, 100, 400],\n",
        "            title=['I am node 1', 'node 2 here', 'and im node 3'],\n",
        "            x=[21.4, 54.2, 11.2],\n",
        "            y=[100.2, 23.54, 32.1],\n",
        "            label=['NODE 1', 'NODE 2', 'NODE 3'],\n",
        "            color=['#00ff1e', '#162347', '#dd4b39'])\n",
        "\n",
        "g.show(\"basic.html\")"
      ]
    },
    {
      "cell_type": "markdown",
      "id": "several-macro",
      "metadata": {
        "id": "several-macro"
      },
      "source": [
        "Если навести курсор мыши на узел, то можно увидеть, что атрибут узла `title` отвечает за отображение данных при наведении курсора. Вы также можете добавить *HTML* код в строку `title`.\n",
        "\n",
        "Атрибут `color` может быть простым *HTML* цветом, например красным или синим. При необходимости можно указать полную спецификацию *rgba*. В документации [VisJS](https://visjs.github.io/vis-network/docs/network/) содержится более подробная информация.\n",
        "\n",
        "Подробная документация по дополнительным аргументам для узлов находится в документации метода [`network.Network.add_node()`](https://pyvis.readthedocs.io/en/latest/documentation.html#pyvis.network.Network.add_node).\n",
        "\n",
        "## Ребра \n",
        "\n",
        "Предполагая, что существуют узлы сети, в соответствии с идентификатором узла могут быть добавлены ребра."
      ]
    },
    {
      "cell_type": "code",
      "execution_count": null,
      "id": "unknown-minneapolis",
      "metadata": {
        "id": "unknown-minneapolis"
      },
      "outputs": [],
      "source": [
        "net.add_node(0, label='a')\n",
        "net.add_node(1, label='b')\n",
        "net.add_edge(0, 1)"
      ]
    },
    {
      "cell_type": "markdown",
      "id": "ordinary-billy",
      "metadata": {
        "id": "ordinary-billy"
      },
      "source": [
        "Ребра также могут содержать атрибут `weight`:"
      ]
    },
    {
      "cell_type": "code",
      "execution_count": null,
      "id": "spoken-pressure",
      "metadata": {
        "id": "spoken-pressure"
      },
      "outputs": [],
      "source": [
        "net.add_edge(0, 1, weight=.87)"
      ]
    },
    {
      "cell_type": "markdown",
      "id": "analyzed-qualification",
      "metadata": {
        "id": "analyzed-qualification"
      },
      "source": [
        "Ребра можно настроить, а документацию по параметрам можно найти в документации метода [`network.Network.add_edge()`](https://pyvis.readthedocs.io/en/latest/documentation.html#pyvis.network.Network.add_edge) или обратившись к исходной документации [`VisJS`](https://visjs.github.io/vis-network/docs/network/edges.html).\n",
        "\n",
        "## Интеграция с Networkx\n",
        "\n",
        "Простой способ визуализировать и строить сети в *pyvis* - использовать [`Networkx`](https://networkx.github.io/) и встроенный вспомогательный метод *pyvis* для перевода в граф *networkx*. \n",
        "\n",
        "Обратите внимание, что свойства узла *Networkx* с теми же именами, что и *pyvis* (например, `title`), транслируются непосредственно в атрибуты узла *pyvis* с соответствующим именем."
      ]
    },
    {
      "cell_type": "code",
      "execution_count": null,
      "id": "unnecessary-lemon",
      "metadata": {
        "id": "unnecessary-lemon"
      },
      "outputs": [],
      "source": [
        "from pyvis.network import Network\n",
        "import networkx as nx\n",
        "\n",
        "nx_graph = nx.cycle_graph(10)\n",
        "\n",
        "nx_graph.nodes[1]['title'] = 'Number 1'\n",
        "nx_graph.nodes[1]['group'] = 1\n",
        "nx_graph.nodes[3]['title'] = 'I belong to a different group!'\n",
        "nx_graph.nodes[3]['group'] = 10\n",
        "\n",
        "nx_graph.add_node(20, size=20, title='couple', group=2)\n",
        "nx_graph.add_node(21, size=15, title='couple', group=2)\n",
        "nx_graph.add_edge(20, 21, weight=5)\n",
        "nx_graph.add_node(25, size=25, label='lonely', title='lonely node', group=3)\n",
        "\n",
        "nt = Network('500px', '500px', notebook=True)\n",
        "\n",
        "nt.from_nx(nx_graph)\n",
        "nt.show('nx.html')"
      ]
    },
    {
      "cell_type": "markdown",
      "id": "proof-manufacturer",
      "metadata": {
        "id": "proof-manufacturer"
      },
      "source": [
        "## Визуализация\n",
        "\n",
        "Отображение графика достигается одним вызовом метода [`network.Network.show()`](https://pyvis.readthedocs.io/en/latest/documentation.html#pyvis.network.Network.show) после построения базовой сети. Интерактивная визуализация представлена в виде статического *HTML* файла."
      ]
    },
    {
      "cell_type": "code",
      "execution_count": null,
      "id": "medieval-klein",
      "metadata": {
        "id": "medieval-klein"
      },
      "outputs": [],
      "source": [
        "net.toggle_physics(True) # включение физического взаимодействия\n",
        "net.show('mygraph.html')"
      ]
    },
    {
      "cell_type": "markdown",
      "id": "productive-reggae",
      "metadata": {
        "id": "productive-reggae"
      },
      "source": [
        "Запуск метода [`toggle_physics()`](https://pyvis.readthedocs.io/en/latest/documentation.html#pyvis.network.Network.toggle_physics) позволяет более гибко взаимодействовать с графами."
      ]
    },
    {
      "cell_type": "code",
      "execution_count": null,
      "id": "eligible-spouse",
      "metadata": {
        "id": "eligible-spouse"
      },
      "outputs": [],
      "source": [
        "net.toggle_physics(False) # выключение физического взаимодействия\n",
        "net.show('mygraph.html')"
      ]
    },
    {
      "cell_type": "markdown",
      "id": "spectacular-effects",
      "metadata": {
        "id": "spectacular-effects"
      },
      "source": [
        "## Пример: визуализация сети персонажей Игры престолов\n",
        "\n",
        "Следующий блок кода является минимальным примером возможностей *pyvis*:"
      ]
    },
    {
      "cell_type": "code",
      "execution_count": null,
      "id": "iraqi-legislation",
      "metadata": {
        "id": "iraqi-legislation"
      },
      "outputs": [],
      "source": [
        "from pyvis.network import Network\n",
        "import pandas as pd\n",
        "\n",
        "got_net = Network(height='750px', \n",
        "                  width='100%', \n",
        "                  bgcolor='#222222', \n",
        "                  font_color='white', \n",
        "                  notebook=True)\n",
        "\n",
        "# установить физический макет сети\n",
        "# https://pyvis.readthedocs.io/en/latest/documentation.html#pyvis.network.Network.barnes_hut\n",
        "got_net.barnes_hut()\n",
        "got_data = pd.read_csv('https://www.macalester.edu/~abeverid/data/stormofswords.csv')\n",
        "\n",
        "sources = got_data['Source']\n",
        "targets = got_data['Target']\n",
        "weights = got_data['Weight']\n",
        "\n",
        "edge_data = zip(sources, targets, weights)\n",
        "\n",
        "for e in edge_data:\n",
        "    src = e[0]\n",
        "    dst = e[1]\n",
        "    w = e[2]\n",
        "\n",
        "    got_net.add_node(src, src, title=src)\n",
        "    got_net.add_node(dst, dst, title=dst)\n",
        "    got_net.add_edge(src, dst, value=w)\n",
        "\n",
        "# https://pyvis.readthedocs.io/en/latest/documentation.html#pyvis.network.Network.get_adj_list\n",
        "neighbor_map = got_net.get_adj_list()\n",
        "\n",
        "# добавить данные о соседях в узлы\n",
        "for node in got_net.nodes:\n",
        "    node['title'] += ' Neighbors:<br>' + '<br>'.join(neighbor_map[node['id']])\n",
        "    node['value'] = len(neighbor_map[node['id']])\n",
        "\n",
        "got_net.show('gameofthrones.html')"
      ]
    },
    {
      "cell_type": "markdown",
      "id": "engaging-execution",
      "metadata": {
        "id": "engaging-execution"
      },
      "source": [
        "Атрибут `title` каждого узла отвечает за отображение данных при наведении курсора на узел.\n",
        "\n",
        "## Использование пользовательского интерфейса конфигурации для динамической настройки параметров сети\n",
        "\n",
        "У вас также есть возможность снабдить визуализацию пользовательским интерфейсом, используемым для динамического изменения некоторых настроек, относящихся к вашей сети. Это может быть полезно для поиска наиболее оптимальных параметров графика и функции компоновки."
      ]
    },
    {
      "cell_type": "code",
      "execution_count": null,
      "id": "pointed-secondary",
      "metadata": {
        "id": "pointed-secondary"
      },
      "outputs": [],
      "source": [
        "net.show_buttons(filter_=['physics'])\n",
        "net.show('mygraph.html')"
      ]
    },
    {
      "cell_type": "markdown",
      "id": "continued-optimum",
      "metadata": {
        "id": "continued-optimum"
      },
      "source": [
        "Вы можете скопировать / вставить вывод, полученный с помощью кнопки *generate options* в приведенном выше пользовательском интерфейсе, в [`network.Network.set_options()`](https://pyvis.readthedocs.io/en/latest/documentation.html#pyvis.network.Network.set_options), чтобы завершить результаты экспериментов с настройками.\n",
        "\n",
        "> Оригинальная документация [тут](https://pyvis.readthedocs.io/en/latest/tutorial.html)"
      ]
    },
    {
      "cell_type": "markdown",
      "id": "secret-welcome",
      "metadata": {
        "id": "secret-welcome"
      },
      "source": [
        "<a href=\"https://t.me/init_python\"><img src=\"https://dfedorov.spb.ru/pandas/logo-telegram.png\" width=\"35\" height=\"35\" alt=\"telegram\" align=\"left\"></a>"
      ]
    }
  ],
  "metadata": {
    "kernelspec": {
      "display_name": "Python 3",
      "language": "python",
      "name": "python3"
    },
    "language_info": {
      "codemirror_mode": {
        "name": "ipython",
        "version": 3
      },
      "file_extension": ".py",
      "mimetype": "text/x-python",
      "name": "python",
      "nbconvert_exporter": "python",
      "pygments_lexer": "ipython3",
      "version": "3.8.2"
    },
    "colab": {
      "provenance": []
    }
  },
  "nbformat": 4,
  "nbformat_minor": 5
}